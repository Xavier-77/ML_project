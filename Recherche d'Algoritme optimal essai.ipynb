{
 "cells": [
  {
   "cell_type": "code",
   "execution_count": 1,
   "id": "54385857",
   "metadata": {},
   "outputs": [],
   "source": [
    "# les imports\n",
    "import numpy as np\n",
    "import pandas as pd\n",
    "import seaborn as sns\n",
    "from sklearn.svm import SVC\n",
    "from sklearn.svm import SVR\n",
    "from joblib import dump, load\n",
    "import matplotlib.pyplot as plt\n",
    "from sklearn.tree import DecisionTreeRegressor\n",
    "from sklearn.metrics import mean_squared_error\n",
    "from sklearn.tree import DecisionTreeClassifier\n",
    "from sklearn.ensemble import RandomForestRegressor\n",
    "from sklearn.ensemble import RandomForestClassifier\n",
    "from sklearn.metrics import accuracy_score, classification_report\n",
    "from sklearn.model_selection import train_test_split, GridSearchCV, cross_val_score"
   ]
  },
  {
   "cell_type": "code",
   "execution_count": 2,
   "id": "00a4a3fa",
   "metadata": {},
   "outputs": [],
   "source": [
    "#chargement des données depuis le fichier bruyance.xls\n",
    "data1 = pd.read_excel('bruyance1.xls', sheet_name='Feuil1')\n",
    "data2 = pd.read_excel('bruyance1.xls', sheet_name='Feuil3')"
   ]
  },
  {
   "cell_type": "code",
   "execution_count": 3,
   "id": "2b0d5f92",
   "metadata": {},
   "outputs": [
    {
     "data": {
      "text/html": [
       "<div>\n",
       "<style scoped>\n",
       "    .dataframe tbody tr th:only-of-type {\n",
       "        vertical-align: middle;\n",
       "    }\n",
       "\n",
       "    .dataframe tbody tr th {\n",
       "        vertical-align: top;\n",
       "    }\n",
       "\n",
       "    .dataframe thead th {\n",
       "        text-align: right;\n",
       "    }\n",
       "</style>\n",
       "<table border=\"1\" class=\"dataframe\">\n",
       "  <thead>\n",
       "    <tr style=\"text-align: right;\">\n",
       "      <th></th>\n",
       "      <th>Référence</th>\n",
       "      <th>Dégradé</th>\n",
       "      <th>Vn</th>\n",
       "      <th>ZCR</th>\n",
       "      <th>SF</th>\n",
       "      <th>CGS</th>\n",
       "      <th>SNR</th>\n",
       "      <th>CS</th>\n",
       "      <th>classe</th>\n",
       "    </tr>\n",
       "  </thead>\n",
       "  <tbody>\n",
       "    <tr>\n",
       "      <th>0</th>\n",
       "      <td>1aFm2s03.c01</td>\n",
       "      <td>1aFm2s03.c19</td>\n",
       "      <td>2.282211</td>\n",
       "      <td>2.256614</td>\n",
       "      <td>0.136236</td>\n",
       "      <td>3072.361366</td>\n",
       "      <td>-0.834154</td>\n",
       "      <td>0.032883</td>\n",
       "      <td>environnement</td>\n",
       "    </tr>\n",
       "    <tr>\n",
       "      <th>1</th>\n",
       "      <td>1aFf2s03.c01</td>\n",
       "      <td>1aFf2s03.c19</td>\n",
       "      <td>2.319427</td>\n",
       "      <td>2.151638</td>\n",
       "      <td>0.135872</td>\n",
       "      <td>3097.379005</td>\n",
       "      <td>0.497280</td>\n",
       "      <td>0.034097</td>\n",
       "      <td>environnement</td>\n",
       "    </tr>\n",
       "    <tr>\n",
       "      <th>2</th>\n",
       "      <td>1aFm1s01.c01</td>\n",
       "      <td>1aFm1s01.c19</td>\n",
       "      <td>2.309963</td>\n",
       "      <td>2.543205</td>\n",
       "      <td>0.134415</td>\n",
       "      <td>3101.208458</td>\n",
       "      <td>0.573188</td>\n",
       "      <td>0.036270</td>\n",
       "      <td>environnement</td>\n",
       "    </tr>\n",
       "    <tr>\n",
       "      <th>3</th>\n",
       "      <td>1aFm2s01.c01</td>\n",
       "      <td>1aFm2s01.c19</td>\n",
       "      <td>2.289375</td>\n",
       "      <td>2.285581</td>\n",
       "      <td>0.135148</td>\n",
       "      <td>3086.027621</td>\n",
       "      <td>-0.237073</td>\n",
       "      <td>0.034339</td>\n",
       "      <td>environnement</td>\n",
       "    </tr>\n",
       "    <tr>\n",
       "      <th>4</th>\n",
       "      <td>1aFf2s01.c01</td>\n",
       "      <td>1aFf2s01.c19</td>\n",
       "      <td>2.258854</td>\n",
       "      <td>2.180051</td>\n",
       "      <td>0.136685</td>\n",
       "      <td>3071.768504</td>\n",
       "      <td>1.646239</td>\n",
       "      <td>0.033287</td>\n",
       "      <td>environnement</td>\n",
       "    </tr>\n",
       "    <tr>\n",
       "      <th>...</th>\n",
       "      <td>...</td>\n",
       "      <td>...</td>\n",
       "      <td>...</td>\n",
       "      <td>...</td>\n",
       "      <td>...</td>\n",
       "      <td>...</td>\n",
       "      <td>...</td>\n",
       "      <td>...</td>\n",
       "      <td>...</td>\n",
       "    </tr>\n",
       "    <tr>\n",
       "      <th>417</th>\n",
       "      <td>1aFm2s02.c01</td>\n",
       "      <td>1aFm2s02.c36</td>\n",
       "      <td>2.790068</td>\n",
       "      <td>4.114658</td>\n",
       "      <td>0.119544</td>\n",
       "      <td>3351.327730</td>\n",
       "      <td>3.545238</td>\n",
       "      <td>0.060640</td>\n",
       "      <td>souffle</td>\n",
       "    </tr>\n",
       "    <tr>\n",
       "      <th>418</th>\n",
       "      <td>1aFf2s02.c01</td>\n",
       "      <td>1aFf2s02.c36</td>\n",
       "      <td>2.957075</td>\n",
       "      <td>4.180330</td>\n",
       "      <td>0.117586</td>\n",
       "      <td>3357.552276</td>\n",
       "      <td>3.626432</td>\n",
       "      <td>0.057617</td>\n",
       "      <td>souffle</td>\n",
       "    </tr>\n",
       "    <tr>\n",
       "      <th>419</th>\n",
       "      <td>1aFm1s03.c01</td>\n",
       "      <td>1aFm1s03.c37</td>\n",
       "      <td>3.174204</td>\n",
       "      <td>5.477918</td>\n",
       "      <td>0.127320</td>\n",
       "      <td>3563.127722</td>\n",
       "      <td>10.530540</td>\n",
       "      <td>0.065303</td>\n",
       "      <td>souffle</td>\n",
       "    </tr>\n",
       "    <tr>\n",
       "      <th>420</th>\n",
       "      <td>1aFm2s03.c01</td>\n",
       "      <td>1aFm2s03.c37</td>\n",
       "      <td>2.941321</td>\n",
       "      <td>3.321399</td>\n",
       "      <td>0.115251</td>\n",
       "      <td>3271.336229</td>\n",
       "      <td>9.729235</td>\n",
       "      <td>0.046679</td>\n",
       "      <td>souffle</td>\n",
       "    </tr>\n",
       "    <tr>\n",
       "      <th>421</th>\n",
       "      <td>1aFf1s03.c01</td>\n",
       "      <td>1aFf1s03.c37</td>\n",
       "      <td>2.932937</td>\n",
       "      <td>4.894563</td>\n",
       "      <td>0.120704</td>\n",
       "      <td>3463.641099</td>\n",
       "      <td>10.285297</td>\n",
       "      <td>0.057730</td>\n",
       "      <td>souffle</td>\n",
       "    </tr>\n",
       "  </tbody>\n",
       "</table>\n",
       "<p>422 rows × 9 columns</p>\n",
       "</div>"
      ],
      "text/plain": [
       "        Référence       Dégradé        Vn       ZCR        SF          CGS  \\\n",
       "0    1aFm2s03.c01  1aFm2s03.c19  2.282211  2.256614  0.136236  3072.361366   \n",
       "1    1aFf2s03.c01  1aFf2s03.c19  2.319427  2.151638  0.135872  3097.379005   \n",
       "2    1aFm1s01.c01  1aFm1s01.c19  2.309963  2.543205  0.134415  3101.208458   \n",
       "3    1aFm2s01.c01  1aFm2s01.c19  2.289375  2.285581  0.135148  3086.027621   \n",
       "4    1aFf2s01.c01  1aFf2s01.c19  2.258854  2.180051  0.136685  3071.768504   \n",
       "..            ...           ...       ...       ...       ...          ...   \n",
       "417  1aFm2s02.c01  1aFm2s02.c36  2.790068  4.114658  0.119544  3351.327730   \n",
       "418  1aFf2s02.c01  1aFf2s02.c36  2.957075  4.180330  0.117586  3357.552276   \n",
       "419  1aFm1s03.c01  1aFm1s03.c37  3.174204  5.477918  0.127320  3563.127722   \n",
       "420  1aFm2s03.c01  1aFm2s03.c37  2.941321  3.321399  0.115251  3271.336229   \n",
       "421  1aFf1s03.c01  1aFf1s03.c37  2.932937  4.894563  0.120704  3463.641099   \n",
       "\n",
       "           SNR        CS         classe  \n",
       "0    -0.834154  0.032883  environnement  \n",
       "1     0.497280  0.034097  environnement  \n",
       "2     0.573188  0.036270  environnement  \n",
       "3    -0.237073  0.034339  environnement  \n",
       "4     1.646239  0.033287  environnement  \n",
       "..         ...       ...            ...  \n",
       "417   3.545238  0.060640        souffle  \n",
       "418   3.626432  0.057617        souffle  \n",
       "419  10.530540  0.065303        souffle  \n",
       "420   9.729235  0.046679        souffle  \n",
       "421  10.285297  0.057730        souffle  \n",
       "\n",
       "[422 rows x 9 columns]"
      ]
     },
     "execution_count": 3,
     "metadata": {},
     "output_type": "execute_result"
    }
   ],
   "source": [
    "#visualisation du contenu des données\n",
    "data1"
   ]
  },
  {
   "cell_type": "code",
   "execution_count": 4,
   "id": "099c4332",
   "metadata": {},
   "outputs": [
    {
     "data": {
      "text/html": [
       "<div>\n",
       "<style scoped>\n",
       "    .dataframe tbody tr th:only-of-type {\n",
       "        vertical-align: middle;\n",
       "    }\n",
       "\n",
       "    .dataframe tbody tr th {\n",
       "        vertical-align: top;\n",
       "    }\n",
       "\n",
       "    .dataframe thead th {\n",
       "        text-align: right;\n",
       "    }\n",
       "</style>\n",
       "<table border=\"1\" class=\"dataframe\">\n",
       "  <thead>\n",
       "    <tr style=\"text-align: right;\">\n",
       "      <th></th>\n",
       "      <th>N°</th>\n",
       "      <th>Conditions</th>\n",
       "      <th>RSB</th>\n",
       "      <th>Loc/s.</th>\n",
       "      <th>Référence</th>\n",
       "      <th>Dégradé</th>\n",
       "      <th>Moy. DMOS</th>\n",
       "    </tr>\n",
       "  </thead>\n",
       "  <tbody>\n",
       "    <tr>\n",
       "      <th>0</th>\n",
       "      <td>4</td>\n",
       "      <td>NaN</td>\n",
       "      <td>NaN</td>\n",
       "      <td>m1</td>\n",
       "      <td>1aFm1s02.c01</td>\n",
       "      <td>1aFm1s02.c04</td>\n",
       "      <td>1.000</td>\n",
       "    </tr>\n",
       "    <tr>\n",
       "      <th>1</th>\n",
       "      <td>4</td>\n",
       "      <td>Brown_noise</td>\n",
       "      <td>0 dB</td>\n",
       "      <td>m2</td>\n",
       "      <td>1aFm2s02.c01</td>\n",
       "      <td>1aFm2s02.c04</td>\n",
       "      <td>1.000</td>\n",
       "    </tr>\n",
       "    <tr>\n",
       "      <th>2</th>\n",
       "      <td>4</td>\n",
       "      <td>NaN</td>\n",
       "      <td>NaN</td>\n",
       "      <td>f1</td>\n",
       "      <td>1aFf1s02.c01</td>\n",
       "      <td>1aFf1s02.c04</td>\n",
       "      <td>1.000</td>\n",
       "    </tr>\n",
       "    <tr>\n",
       "      <th>3</th>\n",
       "      <td>4</td>\n",
       "      <td>NaN</td>\n",
       "      <td>NaN</td>\n",
       "      <td>f2</td>\n",
       "      <td>1aFf2s02.c01</td>\n",
       "      <td>1aFf2s02.c04</td>\n",
       "      <td>1.000</td>\n",
       "    </tr>\n",
       "    <tr>\n",
       "      <th>4</th>\n",
       "      <td>4</td>\n",
       "      <td>NaN</td>\n",
       "      <td>NaN</td>\n",
       "      <td>m1</td>\n",
       "      <td>1aFm1s03.c01</td>\n",
       "      <td>1aFm1s03.c04</td>\n",
       "      <td>1.000</td>\n",
       "    </tr>\n",
       "    <tr>\n",
       "      <th>...</th>\n",
       "      <td>...</td>\n",
       "      <td>...</td>\n",
       "      <td>...</td>\n",
       "      <td>...</td>\n",
       "      <td>...</td>\n",
       "      <td>...</td>\n",
       "      <td>...</td>\n",
       "    </tr>\n",
       "    <tr>\n",
       "      <th>535</th>\n",
       "      <td>48</td>\n",
       "      <td>NaN</td>\n",
       "      <td>NaN</td>\n",
       "      <td>f2</td>\n",
       "      <td>1aFf2s02.c01</td>\n",
       "      <td>1aFf2s02.c48</td>\n",
       "      <td>3.875</td>\n",
       "    </tr>\n",
       "    <tr>\n",
       "      <th>536</th>\n",
       "      <td>48</td>\n",
       "      <td>NaN</td>\n",
       "      <td>NaN</td>\n",
       "      <td>m1</td>\n",
       "      <td>1aFm1s01.c01</td>\n",
       "      <td>1aFm1s01.c48</td>\n",
       "      <td>4.000</td>\n",
       "    </tr>\n",
       "    <tr>\n",
       "      <th>537</th>\n",
       "      <td>48</td>\n",
       "      <td>Pub_Noise</td>\n",
       "      <td>40 dB</td>\n",
       "      <td>m2</td>\n",
       "      <td>1aFm2s01.c01</td>\n",
       "      <td>1aFm2s01.c48</td>\n",
       "      <td>3.875</td>\n",
       "    </tr>\n",
       "    <tr>\n",
       "      <th>538</th>\n",
       "      <td>48</td>\n",
       "      <td>NaN</td>\n",
       "      <td>NaN</td>\n",
       "      <td>f1</td>\n",
       "      <td>1aFf1s01.c01</td>\n",
       "      <td>1aFf1s01.c48</td>\n",
       "      <td>4.000</td>\n",
       "    </tr>\n",
       "    <tr>\n",
       "      <th>539</th>\n",
       "      <td>48</td>\n",
       "      <td>NaN</td>\n",
       "      <td>NaN</td>\n",
       "      <td>f2</td>\n",
       "      <td>1aFf2s01.c01</td>\n",
       "      <td>1aFf2s01.c48</td>\n",
       "      <td>3.875</td>\n",
       "    </tr>\n",
       "  </tbody>\n",
       "</table>\n",
       "<p>540 rows × 7 columns</p>\n",
       "</div>"
      ],
      "text/plain": [
       "     N°   Conditions    RSB Loc/s.     Référence       Dégradé  Moy. DMOS\n",
       "0     4          NaN    NaN     m1  1aFm1s02.c01  1aFm1s02.c04      1.000\n",
       "1     4  Brown_noise   0 dB     m2  1aFm2s02.c01  1aFm2s02.c04      1.000\n",
       "2     4          NaN    NaN     f1  1aFf1s02.c01  1aFf1s02.c04      1.000\n",
       "3     4          NaN    NaN     f2  1aFf2s02.c01  1aFf2s02.c04      1.000\n",
       "4     4          NaN    NaN     m1  1aFm1s03.c01  1aFm1s03.c04      1.000\n",
       "..   ..          ...    ...    ...           ...           ...        ...\n",
       "535  48          NaN    NaN     f2  1aFf2s02.c01  1aFf2s02.c48      3.875\n",
       "536  48          NaN    NaN     m1  1aFm1s01.c01  1aFm1s01.c48      4.000\n",
       "537  48    Pub_Noise  40 dB     m2  1aFm2s01.c01  1aFm2s01.c48      3.875\n",
       "538  48          NaN    NaN     f1  1aFf1s01.c01  1aFf1s01.c48      4.000\n",
       "539  48          NaN    NaN     f2  1aFf2s01.c01  1aFf2s01.c48      3.875\n",
       "\n",
       "[540 rows x 7 columns]"
      ]
     },
     "execution_count": 4,
     "metadata": {},
     "output_type": "execute_result"
    }
   ],
   "source": [
    "#visualisation du contenu des données\n",
    "data2"
   ]
  },
  {
   "cell_type": "markdown",
   "id": "7a067f59",
   "metadata": {},
   "source": [
    "#compréhension des données chargées\n",
    "\n",
    "Dans la data1 nous avons 9 colonnes et 422 lignes. Les 9 colonnes sont respectivement: Reference: Dégradé : Vn : ZCR : SF : CGS : SNR : CS : Classe :\n",
    "\n",
    "Dans la data2 nous avons 7 colonnes et 540 lignes. Les 7 lignes sont respectivement: N° : Conditions : RSB : Loc/s : Reference : Dégradé : Moy.DMOS :"
   ]
  },
  {
   "cell_type": "markdown",
   "id": "256cc3fa",
   "metadata": {},
   "source": [
    "pourquoi allons nous nous passer des colonnes N° ,Conditions ,RSB ,Loc/s pour la suite Explication de la nécessité de fusionner les deux data pour la suite"
   ]
  },
  {
   "cell_type": "code",
   "execution_count": 5,
   "id": "68f11255",
   "metadata": {},
   "outputs": [
    {
     "name": "stdout",
     "output_type": "stream",
     "text": [
      "Il y a des éléments non uniques dans la colonne Référence.\n",
      "Tous les éléments de la colonne Dégradé sont uniques.\n",
      "Tous les éléments de la colonne    Vn sont uniques.\n",
      "Tous les éléments de la colonne    ZCR sont uniques.\n",
      "Il y a des éléments non uniques dans la colonne    SF.\n",
      "Tous les éléments de la colonne  CGS sont uniques.\n",
      "Tous les éléments de la colonne   SNR sont uniques.\n",
      "Tous les éléments de la colonne  CS sont uniques.\n",
      "Il y a des éléments non uniques dans la colonne classe.\n"
     ]
    }
   ],
   "source": [
    "# Vérifier l'unicité des éléments dans chaque colonne de data1\n",
    "for colonne in data1.columns:\n",
    "    nb_elements_uniques = data1[colonne].nunique()\n",
    "    nb_elements_total = len(data1[colonne])\n",
    "    if nb_elements_uniques == nb_elements_total:\n",
    "        print(f\"Tous les éléments de la colonne {colonne} sont uniques.\")\n",
    "    else:\n",
    "        print(f\"Il y a des éléments non uniques dans la colonne {colonne}.\")"
   ]
  },
  {
   "cell_type": "code",
   "execution_count": 6,
   "id": "4a8ad383",
   "metadata": {},
   "outputs": [
    {
     "name": "stdout",
     "output_type": "stream",
     "text": [
      "Il y a des éléments non uniques dans la colonne N°.\n",
      "Il y a des éléments non uniques dans la colonne Conditions.\n",
      "Il y a des éléments non uniques dans la colonne RSB.\n",
      "Il y a des éléments non uniques dans la colonne Loc/s..\n",
      "Il y a des éléments non uniques dans la colonne Référence.\n",
      "Tous les éléments de la colonne Dégradé sont uniques.\n",
      "Il y a des éléments non uniques dans la colonne Moy. DMOS.\n"
     ]
    }
   ],
   "source": [
    "# Vérifier l'unicité des éléments dans chaque colonne de data2\n",
    "for colonne in data2.columns:\n",
    "    nb_elements_uniques = data2[colonne].nunique()\n",
    "    nb_elements_total = len(data2[colonne])\n",
    "    if nb_elements_uniques == nb_elements_total:\n",
    "        print(f\"Tous les éléments de la colonne {colonne} sont uniques.\")\n",
    "    else:\n",
    "        print(f\"Il y a des éléments non uniques dans la colonne {colonne}.\")"
   ]
  },
  {
   "cell_type": "markdown",
   "id": "ff84187c",
   "metadata": {},
   "source": [
    "On remarque que la colonne comune aux deux data et unique (expliquer en quoi l'unicité est impératif pour la fusion) est dégradé la fusion se fera alors selon cette colonne"
   ]
  },
  {
   "cell_type": "code",
   "execution_count": 7,
   "id": "7237bdee",
   "metadata": {},
   "outputs": [
    {
     "data": {
      "text/html": [
       "<div>\n",
       "<style scoped>\n",
       "    .dataframe tbody tr th:only-of-type {\n",
       "        vertical-align: middle;\n",
       "    }\n",
       "\n",
       "    .dataframe tbody tr th {\n",
       "        vertical-align: top;\n",
       "    }\n",
       "\n",
       "    .dataframe thead th {\n",
       "        text-align: right;\n",
       "    }\n",
       "</style>\n",
       "<table border=\"1\" class=\"dataframe\">\n",
       "  <thead>\n",
       "    <tr style=\"text-align: right;\">\n",
       "      <th></th>\n",
       "      <th>Référence</th>\n",
       "      <th>Dégradé</th>\n",
       "      <th>Vn</th>\n",
       "      <th>ZCR</th>\n",
       "      <th>SF</th>\n",
       "      <th>CGS</th>\n",
       "      <th>SNR</th>\n",
       "      <th>CS</th>\n",
       "      <th>classe</th>\n",
       "      <th>Moy. DMOS</th>\n",
       "    </tr>\n",
       "  </thead>\n",
       "  <tbody>\n",
       "    <tr>\n",
       "      <th>0</th>\n",
       "      <td>1aFm2s03.c01</td>\n",
       "      <td>1aFm2s03.c19</td>\n",
       "      <td>2.282211</td>\n",
       "      <td>2.256614</td>\n",
       "      <td>0.136236</td>\n",
       "      <td>3072.361366</td>\n",
       "      <td>-0.834154</td>\n",
       "      <td>0.032883</td>\n",
       "      <td>environnement</td>\n",
       "      <td>1.000</td>\n",
       "    </tr>\n",
       "    <tr>\n",
       "      <th>1</th>\n",
       "      <td>1aFf2s03.c01</td>\n",
       "      <td>1aFf2s03.c19</td>\n",
       "      <td>2.319427</td>\n",
       "      <td>2.151638</td>\n",
       "      <td>0.135872</td>\n",
       "      <td>3097.379005</td>\n",
       "      <td>0.497280</td>\n",
       "      <td>0.034097</td>\n",
       "      <td>environnement</td>\n",
       "      <td>1.250</td>\n",
       "    </tr>\n",
       "    <tr>\n",
       "      <th>2</th>\n",
       "      <td>1aFm1s01.c01</td>\n",
       "      <td>1aFm1s01.c19</td>\n",
       "      <td>2.309963</td>\n",
       "      <td>2.543205</td>\n",
       "      <td>0.134415</td>\n",
       "      <td>3101.208458</td>\n",
       "      <td>0.573188</td>\n",
       "      <td>0.036270</td>\n",
       "      <td>environnement</td>\n",
       "      <td>1.375</td>\n",
       "    </tr>\n",
       "    <tr>\n",
       "      <th>3</th>\n",
       "      <td>1aFm2s01.c01</td>\n",
       "      <td>1aFm2s01.c19</td>\n",
       "      <td>2.289375</td>\n",
       "      <td>2.285581</td>\n",
       "      <td>0.135148</td>\n",
       "      <td>3086.027621</td>\n",
       "      <td>-0.237073</td>\n",
       "      <td>0.034339</td>\n",
       "      <td>environnement</td>\n",
       "      <td>1.000</td>\n",
       "    </tr>\n",
       "    <tr>\n",
       "      <th>4</th>\n",
       "      <td>1aFf2s01.c01</td>\n",
       "      <td>1aFf2s01.c19</td>\n",
       "      <td>2.258854</td>\n",
       "      <td>2.180051</td>\n",
       "      <td>0.136685</td>\n",
       "      <td>3071.768504</td>\n",
       "      <td>1.646239</td>\n",
       "      <td>0.033287</td>\n",
       "      <td>environnement</td>\n",
       "      <td>1.125</td>\n",
       "    </tr>\n",
       "    <tr>\n",
       "      <th>...</th>\n",
       "      <td>...</td>\n",
       "      <td>...</td>\n",
       "      <td>...</td>\n",
       "      <td>...</td>\n",
       "      <td>...</td>\n",
       "      <td>...</td>\n",
       "      <td>...</td>\n",
       "      <td>...</td>\n",
       "      <td>...</td>\n",
       "      <td>...</td>\n",
       "    </tr>\n",
       "    <tr>\n",
       "      <th>417</th>\n",
       "      <td>1aFm2s02.c01</td>\n",
       "      <td>1aFm2s02.c36</td>\n",
       "      <td>2.790068</td>\n",
       "      <td>4.114658</td>\n",
       "      <td>0.119544</td>\n",
       "      <td>3351.327730</td>\n",
       "      <td>3.545238</td>\n",
       "      <td>0.060640</td>\n",
       "      <td>souffle</td>\n",
       "      <td>2.375</td>\n",
       "    </tr>\n",
       "    <tr>\n",
       "      <th>418</th>\n",
       "      <td>1aFf2s02.c01</td>\n",
       "      <td>1aFf2s02.c36</td>\n",
       "      <td>2.957075</td>\n",
       "      <td>4.180330</td>\n",
       "      <td>0.117586</td>\n",
       "      <td>3357.552276</td>\n",
       "      <td>3.626432</td>\n",
       "      <td>0.057617</td>\n",
       "      <td>souffle</td>\n",
       "      <td>2.500</td>\n",
       "    </tr>\n",
       "    <tr>\n",
       "      <th>419</th>\n",
       "      <td>1aFm1s03.c01</td>\n",
       "      <td>1aFm1s03.c37</td>\n",
       "      <td>3.174204</td>\n",
       "      <td>5.477918</td>\n",
       "      <td>0.127320</td>\n",
       "      <td>3563.127722</td>\n",
       "      <td>10.530540</td>\n",
       "      <td>0.065303</td>\n",
       "      <td>souffle</td>\n",
       "      <td>3.875</td>\n",
       "    </tr>\n",
       "    <tr>\n",
       "      <th>420</th>\n",
       "      <td>1aFm2s03.c01</td>\n",
       "      <td>1aFm2s03.c37</td>\n",
       "      <td>2.941321</td>\n",
       "      <td>3.321399</td>\n",
       "      <td>0.115251</td>\n",
       "      <td>3271.336229</td>\n",
       "      <td>9.729235</td>\n",
       "      <td>0.046679</td>\n",
       "      <td>souffle</td>\n",
       "      <td>3.500</td>\n",
       "    </tr>\n",
       "    <tr>\n",
       "      <th>421</th>\n",
       "      <td>1aFf1s03.c01</td>\n",
       "      <td>1aFf1s03.c37</td>\n",
       "      <td>2.932937</td>\n",
       "      <td>4.894563</td>\n",
       "      <td>0.120704</td>\n",
       "      <td>3463.641099</td>\n",
       "      <td>10.285297</td>\n",
       "      <td>0.057730</td>\n",
       "      <td>souffle</td>\n",
       "      <td>4.000</td>\n",
       "    </tr>\n",
       "  </tbody>\n",
       "</table>\n",
       "<p>422 rows × 10 columns</p>\n",
       "</div>"
      ],
      "text/plain": [
       "        Référence       Dégradé        Vn       ZCR        SF          CGS  \\\n",
       "0    1aFm2s03.c01  1aFm2s03.c19  2.282211  2.256614  0.136236  3072.361366   \n",
       "1    1aFf2s03.c01  1aFf2s03.c19  2.319427  2.151638  0.135872  3097.379005   \n",
       "2    1aFm1s01.c01  1aFm1s01.c19  2.309963  2.543205  0.134415  3101.208458   \n",
       "3    1aFm2s01.c01  1aFm2s01.c19  2.289375  2.285581  0.135148  3086.027621   \n",
       "4    1aFf2s01.c01  1aFf2s01.c19  2.258854  2.180051  0.136685  3071.768504   \n",
       "..            ...           ...       ...       ...       ...          ...   \n",
       "417  1aFm2s02.c01  1aFm2s02.c36  2.790068  4.114658  0.119544  3351.327730   \n",
       "418  1aFf2s02.c01  1aFf2s02.c36  2.957075  4.180330  0.117586  3357.552276   \n",
       "419  1aFm1s03.c01  1aFm1s03.c37  3.174204  5.477918  0.127320  3563.127722   \n",
       "420  1aFm2s03.c01  1aFm2s03.c37  2.941321  3.321399  0.115251  3271.336229   \n",
       "421  1aFf1s03.c01  1aFf1s03.c37  2.932937  4.894563  0.120704  3463.641099   \n",
       "\n",
       "           SNR        CS         classe  Moy. DMOS  \n",
       "0    -0.834154  0.032883  environnement      1.000  \n",
       "1     0.497280  0.034097  environnement      1.250  \n",
       "2     0.573188  0.036270  environnement      1.375  \n",
       "3    -0.237073  0.034339  environnement      1.000  \n",
       "4     1.646239  0.033287  environnement      1.125  \n",
       "..         ...       ...            ...        ...  \n",
       "417   3.545238  0.060640        souffle      2.375  \n",
       "418   3.626432  0.057617        souffle      2.500  \n",
       "419  10.530540  0.065303        souffle      3.875  \n",
       "420   9.729235  0.046679        souffle      3.500  \n",
       "421  10.285297  0.057730        souffle      4.000  \n",
       "\n",
       "[422 rows x 10 columns]"
      ]
     },
     "execution_count": 7,
     "metadata": {},
     "output_type": "execute_result"
    }
   ],
   "source": [
    "feuille_combinee = pd.merge(data1, data2[['Dégradé', 'Moy. DMOS']], on='Dégradé', how='left')\n",
    "feuille_combinee"
   ]
  },
  {
   "cell_type": "code",
   "execution_count": 8,
   "id": "e9b69abf",
   "metadata": {},
   "outputs": [
    {
     "name": "stdout",
     "output_type": "stream",
     "text": [
      "Dimensions du DataFrame :  (422, 10)\n",
      "Types de données :\n",
      "Référence     object\n",
      "Dégradé       object\n",
      "   Vn        float64\n",
      "   ZCR       float64\n",
      "   SF        float64\n",
      " CGS         float64\n",
      "  SNR        float64\n",
      " CS          float64\n",
      "classe        object\n",
      "Moy. DMOS    float64\n",
      "dtype: object\n"
     ]
    }
   ],
   "source": [
    "#Exploration des données\n",
    "# Afficher les dimensions du DataFrame\n",
    "print(\"Dimensions du DataFrame : \", feuille_combinee.shape)\n",
    "\n",
    "# Afficher les types de données de chaque colonne\n",
    "print(\"Types de données :\")\n",
    "print(feuille_combinee.dtypes)"
   ]
  },
  {
   "cell_type": "markdown",
   "id": "08c031fa",
   "metadata": {},
   "source": [
    "le nombre de ligne reste identique et la colonne Moy.DMOS est bien et bel ajouté. Nous pouvons à présent continuer le prétraitement de nos données. Expliquer pourquoi il est impératif de donner des valeurs numériques à la place de environnement,grésillement et souffle"
   ]
  },
  {
   "cell_type": "code",
   "execution_count": 9,
   "id": "f34ad9f9",
   "metadata": {},
   "outputs": [
    {
     "data": {
      "text/html": [
       "<div>\n",
       "<style scoped>\n",
       "    .dataframe tbody tr th:only-of-type {\n",
       "        vertical-align: middle;\n",
       "    }\n",
       "\n",
       "    .dataframe tbody tr th {\n",
       "        vertical-align: top;\n",
       "    }\n",
       "\n",
       "    .dataframe thead th {\n",
       "        text-align: right;\n",
       "    }\n",
       "</style>\n",
       "<table border=\"1\" class=\"dataframe\">\n",
       "  <thead>\n",
       "    <tr style=\"text-align: right;\">\n",
       "      <th></th>\n",
       "      <th>Référence</th>\n",
       "      <th>Dégradé</th>\n",
       "      <th>Vn</th>\n",
       "      <th>ZCR</th>\n",
       "      <th>SF</th>\n",
       "      <th>CGS</th>\n",
       "      <th>SNR</th>\n",
       "      <th>CS</th>\n",
       "      <th>classe</th>\n",
       "      <th>Moy. DMOS</th>\n",
       "    </tr>\n",
       "  </thead>\n",
       "  <tbody>\n",
       "    <tr>\n",
       "      <th>0</th>\n",
       "      <td>1aFm2s03.c01</td>\n",
       "      <td>1aFm2s03.c19</td>\n",
       "      <td>2.282211</td>\n",
       "      <td>2.256614</td>\n",
       "      <td>0.136236</td>\n",
       "      <td>3072.361366</td>\n",
       "      <td>-0.834154</td>\n",
       "      <td>0.032883</td>\n",
       "      <td>0</td>\n",
       "      <td>1.000</td>\n",
       "    </tr>\n",
       "    <tr>\n",
       "      <th>1</th>\n",
       "      <td>1aFf2s03.c01</td>\n",
       "      <td>1aFf2s03.c19</td>\n",
       "      <td>2.319427</td>\n",
       "      <td>2.151638</td>\n",
       "      <td>0.135872</td>\n",
       "      <td>3097.379005</td>\n",
       "      <td>0.497280</td>\n",
       "      <td>0.034097</td>\n",
       "      <td>0</td>\n",
       "      <td>1.250</td>\n",
       "    </tr>\n",
       "    <tr>\n",
       "      <th>2</th>\n",
       "      <td>1aFm1s01.c01</td>\n",
       "      <td>1aFm1s01.c19</td>\n",
       "      <td>2.309963</td>\n",
       "      <td>2.543205</td>\n",
       "      <td>0.134415</td>\n",
       "      <td>3101.208458</td>\n",
       "      <td>0.573188</td>\n",
       "      <td>0.036270</td>\n",
       "      <td>0</td>\n",
       "      <td>1.375</td>\n",
       "    </tr>\n",
       "    <tr>\n",
       "      <th>3</th>\n",
       "      <td>1aFm2s01.c01</td>\n",
       "      <td>1aFm2s01.c19</td>\n",
       "      <td>2.289375</td>\n",
       "      <td>2.285581</td>\n",
       "      <td>0.135148</td>\n",
       "      <td>3086.027621</td>\n",
       "      <td>-0.237073</td>\n",
       "      <td>0.034339</td>\n",
       "      <td>0</td>\n",
       "      <td>1.000</td>\n",
       "    </tr>\n",
       "    <tr>\n",
       "      <th>4</th>\n",
       "      <td>1aFf2s01.c01</td>\n",
       "      <td>1aFf2s01.c19</td>\n",
       "      <td>2.258854</td>\n",
       "      <td>2.180051</td>\n",
       "      <td>0.136685</td>\n",
       "      <td>3071.768504</td>\n",
       "      <td>1.646239</td>\n",
       "      <td>0.033287</td>\n",
       "      <td>0</td>\n",
       "      <td>1.125</td>\n",
       "    </tr>\n",
       "    <tr>\n",
       "      <th>...</th>\n",
       "      <td>...</td>\n",
       "      <td>...</td>\n",
       "      <td>...</td>\n",
       "      <td>...</td>\n",
       "      <td>...</td>\n",
       "      <td>...</td>\n",
       "      <td>...</td>\n",
       "      <td>...</td>\n",
       "      <td>...</td>\n",
       "      <td>...</td>\n",
       "    </tr>\n",
       "    <tr>\n",
       "      <th>417</th>\n",
       "      <td>1aFm2s02.c01</td>\n",
       "      <td>1aFm2s02.c36</td>\n",
       "      <td>2.790068</td>\n",
       "      <td>4.114658</td>\n",
       "      <td>0.119544</td>\n",
       "      <td>3351.327730</td>\n",
       "      <td>3.545238</td>\n",
       "      <td>0.060640</td>\n",
       "      <td>2</td>\n",
       "      <td>2.375</td>\n",
       "    </tr>\n",
       "    <tr>\n",
       "      <th>418</th>\n",
       "      <td>1aFf2s02.c01</td>\n",
       "      <td>1aFf2s02.c36</td>\n",
       "      <td>2.957075</td>\n",
       "      <td>4.180330</td>\n",
       "      <td>0.117586</td>\n",
       "      <td>3357.552276</td>\n",
       "      <td>3.626432</td>\n",
       "      <td>0.057617</td>\n",
       "      <td>2</td>\n",
       "      <td>2.500</td>\n",
       "    </tr>\n",
       "    <tr>\n",
       "      <th>419</th>\n",
       "      <td>1aFm1s03.c01</td>\n",
       "      <td>1aFm1s03.c37</td>\n",
       "      <td>3.174204</td>\n",
       "      <td>5.477918</td>\n",
       "      <td>0.127320</td>\n",
       "      <td>3563.127722</td>\n",
       "      <td>10.530540</td>\n",
       "      <td>0.065303</td>\n",
       "      <td>2</td>\n",
       "      <td>3.875</td>\n",
       "    </tr>\n",
       "    <tr>\n",
       "      <th>420</th>\n",
       "      <td>1aFm2s03.c01</td>\n",
       "      <td>1aFm2s03.c37</td>\n",
       "      <td>2.941321</td>\n",
       "      <td>3.321399</td>\n",
       "      <td>0.115251</td>\n",
       "      <td>3271.336229</td>\n",
       "      <td>9.729235</td>\n",
       "      <td>0.046679</td>\n",
       "      <td>2</td>\n",
       "      <td>3.500</td>\n",
       "    </tr>\n",
       "    <tr>\n",
       "      <th>421</th>\n",
       "      <td>1aFf1s03.c01</td>\n",
       "      <td>1aFf1s03.c37</td>\n",
       "      <td>2.932937</td>\n",
       "      <td>4.894563</td>\n",
       "      <td>0.120704</td>\n",
       "      <td>3463.641099</td>\n",
       "      <td>10.285297</td>\n",
       "      <td>0.057730</td>\n",
       "      <td>2</td>\n",
       "      <td>4.000</td>\n",
       "    </tr>\n",
       "  </tbody>\n",
       "</table>\n",
       "<p>422 rows × 10 columns</p>\n",
       "</div>"
      ],
      "text/plain": [
       "        Référence       Dégradé        Vn       ZCR        SF          CGS  \\\n",
       "0    1aFm2s03.c01  1aFm2s03.c19  2.282211  2.256614  0.136236  3072.361366   \n",
       "1    1aFf2s03.c01  1aFf2s03.c19  2.319427  2.151638  0.135872  3097.379005   \n",
       "2    1aFm1s01.c01  1aFm1s01.c19  2.309963  2.543205  0.134415  3101.208458   \n",
       "3    1aFm2s01.c01  1aFm2s01.c19  2.289375  2.285581  0.135148  3086.027621   \n",
       "4    1aFf2s01.c01  1aFf2s01.c19  2.258854  2.180051  0.136685  3071.768504   \n",
       "..            ...           ...       ...       ...       ...          ...   \n",
       "417  1aFm2s02.c01  1aFm2s02.c36  2.790068  4.114658  0.119544  3351.327730   \n",
       "418  1aFf2s02.c01  1aFf2s02.c36  2.957075  4.180330  0.117586  3357.552276   \n",
       "419  1aFm1s03.c01  1aFm1s03.c37  3.174204  5.477918  0.127320  3563.127722   \n",
       "420  1aFm2s03.c01  1aFm2s03.c37  2.941321  3.321399  0.115251  3271.336229   \n",
       "421  1aFf1s03.c01  1aFf1s03.c37  2.932937  4.894563  0.120704  3463.641099   \n",
       "\n",
       "           SNR        CS  classe  Moy. DMOS  \n",
       "0    -0.834154  0.032883       0      1.000  \n",
       "1     0.497280  0.034097       0      1.250  \n",
       "2     0.573188  0.036270       0      1.375  \n",
       "3    -0.237073  0.034339       0      1.000  \n",
       "4     1.646239  0.033287       0      1.125  \n",
       "..         ...       ...     ...        ...  \n",
       "417   3.545238  0.060640       2      2.375  \n",
       "418   3.626432  0.057617       2      2.500  \n",
       "419  10.530540  0.065303       2      3.875  \n",
       "420   9.729235  0.046679       2      3.500  \n",
       "421  10.285297  0.057730       2      4.000  \n",
       "\n",
       "[422 rows x 10 columns]"
      ]
     },
     "execution_count": 9,
     "metadata": {},
     "output_type": "execute_result"
    }
   ],
   "source": [
    "feuille_combinee['classe'].replace({'environnement': 0, 'grésillement': 1, 'souffle': 2}, inplace=True)\n",
    "feuille_combinee"
   ]
  },
  {
   "cell_type": "code",
   "execution_count": 10,
   "id": "8b1e95d7",
   "metadata": {},
   "outputs": [
    {
     "name": "stdout",
     "output_type": "stream",
     "text": [
      "Colonnes avec des valeurs nulles :\n",
      " Series([], dtype: int64)\n"
     ]
    }
   ],
   "source": [
    "# Vérifier les valeurs nulles dans feuille_combinee\n",
    "valeurs_nulles = feuille_combinee.isnull().sum()\n",
    "\n",
    "# Afficher les colonnes avec des valeurs nulles\n",
    "print(\"Colonnes avec des valeurs nulles :\\n\", valeurs_nulles[valeurs_nulles > 0])"
   ]
  },
  {
   "cell_type": "code",
   "execution_count": 11,
   "id": "68eab144",
   "metadata": {},
   "outputs": [
    {
     "name": "stdout",
     "output_type": "stream",
     "text": [
      "Résumé statistique des données numériques :\n",
      "               Vn         ZCR          SF          CGS         SNR  \\\n",
      "count  422.000000  422.000000  422.000000   422.000000  422.000000   \n",
      "mean     4.631882    3.107149    0.148656  3699.002156    7.420611   \n",
      "std      2.400474    0.947506    0.022675   524.622707    4.189954   \n",
      "min      1.057306    0.748141    0.094749  3071.768504   -0.834154   \n",
      "25%      2.689486    2.422454    0.134436  3307.326753    4.186347   \n",
      "50%      4.101147    3.110393    0.149533  3521.026453    8.175220   \n",
      "75%      6.354707    3.789151    0.161761  3955.642771   10.832362   \n",
      "max     12.095238    5.822515    0.209371  5190.927466   14.846082   \n",
      "\n",
      "               CS      classe   Moy. DMOS  \n",
      "count  422.000000  422.000000  422.000000  \n",
      "mean     0.077933    0.779621    2.203495  \n",
      "std      0.044363    0.917635    0.910535  \n",
      "min      0.001712    0.000000    1.000000  \n",
      "25%      0.045663    0.000000    1.375000  \n",
      "50%      0.066031    0.000000    2.125000  \n",
      "75%      0.101429    2.000000    3.000000  \n",
      "max      0.191149    2.000000    4.000000  \n",
      "Résumé statistique des données catégoriques :\n",
      "           Référence       Dégradé\n",
      "count            422           422\n",
      "unique            12           422\n",
      "top     1aFm1s01.c01  1aFm2s03.c19\n",
      "freq              36             1\n"
     ]
    }
   ],
   "source": [
    "# Résumé statistique des données numériques\n",
    "print(\"Résumé statistique des données numériques :\")\n",
    "print(feuille_combinee.describe())\n",
    "\n",
    "# Résumé statistique des données catégoriques\n",
    "print(\"Résumé statistique des données catégoriques :\")\n",
    "print(feuille_combinee.describe(include=['object']))"
   ]
  },
  {
   "cell_type": "code",
   "execution_count": 12,
   "id": "6efb52b2",
   "metadata": {},
   "outputs": [
    {
     "data": {
      "image/png": "[encoded data removed]",
      "text/plain": [
       "<Figure size 640x480 with 2 Axes>"
      ]
     },
     "metadata": {},
     "output_type": "display_data"
    }
   ],
   "source": [
    "correlation_matrix = feuille_combinee.corr()\n",
    "sns.heatmap(correlation_matrix, annot=True, cmap='coolwarm')\n",
    "plt.title('Matrice de corrélation')\n",
    "plt.show()"
   ]
  },
  {
   "cell_type": "code",
   "execution_count": 13,
   "id": "46923c41",
   "metadata": {},
   "outputs": [],
   "source": [
    "# Séparer les caractéristiques (features) et les étiquettes (labels)\n",
    "X = feuille_combinee.drop(columns=['Référence','Dégradé','classe', 'Moy. DMOS']) \n",
    "y = feuille_combinee['classe']\n",
    "Y = feuille_combinee['Moy. DMOS']"
   ]
  },
  {
   "cell_type": "code",
   "execution_count": 17,
   "id": "1f977a75",
   "metadata": {},
   "outputs": [
    {
     "name": "stdout",
     "output_type": "stream",
     "text": [
      "0    234\n",
      "2    141\n",
      "1     47\n",
      "Name: classe, dtype: int64\n"
     ]
    }
   ],
   "source": [
    "# Affichons le décompte des exemples pour chaque classe\n",
    "classe_counts = feuille_combinee['classe'].value_counts()\n",
    "print(classe_counts)"
   ]
  },
  {
   "cell_type": "code",
   "execution_count": 18,
   "id": "30f9d3f9",
   "metadata": {},
   "outputs": [],
   "source": [
    "#division en données test et données d'entrainement pour la classification\n",
    "X_train, X_test, y_train, y_test = train_test_split(X, y, test_size=0.2, random_state=42, stratify=y)"
   ]
  },
  {
   "cell_type": "code",
   "execution_count": 19,
   "id": "9d60394d",
   "metadata": {},
   "outputs": [],
   "source": [
    "#division en données test et données d'entrainement pour la regression\n",
    "X_train_reg, X_test_reg, Y_train_reg, Y_test_reg = train_test_split(X, Y, test_size=0.2, random_state=42)"
   ]
  },
  {
   "cell_type": "markdown",
   "id": "bce10c4b",
   "metadata": {},
   "source": [
    "# Classification "
   ]
  },
  {
   "cell_type": "markdown",
   "id": "64f3691f",
   "metadata": {},
   "source": [
    "## Arbre de décision"
   ]
  },
  {
   "cell_type": "code",
   "execution_count": 20,
   "id": "1a5feca1",
   "metadata": {},
   "outputs": [
    {
     "name": "stdout",
     "output_type": "stream",
     "text": [
      "Accuracy: 0.9176470588235294\n",
      "\n",
      "Classification Report:\n",
      "              precision    recall  f1-score   support\n",
      "\n",
      "           0       0.98      0.94      0.96        47\n",
      "           1       0.80      0.80      0.80        10\n",
      "           2       0.87      0.93      0.90        28\n",
      "\n",
      "    accuracy                           0.92        85\n",
      "   macro avg       0.88      0.89      0.88        85\n",
      "weighted avg       0.92      0.92      0.92        85\n",
      "\n"
     ]
    }
   ],
   "source": [
    "model = DecisionTreeClassifier()\n",
    "\n",
    "# Entraînons le modèle sur l'ensemble d'entraînement\n",
    "model.fit(X_train, y_train)\n",
    "\n",
    "# Faisons des prédictions sur l'ensemble de test\n",
    "y_pred = model.predict(X_test)\n",
    "\n",
    "# Évaluons la performance du modèle\n",
    "accuracy = accuracy_score(y_test, y_pred)\n",
    "print(\"Accuracy:\", accuracy)\n",
    "\n",
    "# Affichons le rapport de classification\n",
    "print(\"\\nClassification Report:\")\n",
    "print(classification_report(y_test, y_pred))"
   ]
  },
  {
   "cell_type": "code",
   "execution_count": 21,
   "id": "15cd1bf5",
   "metadata": {},
   "outputs": [
    {
     "name": "stdout",
     "output_type": "stream",
     "text": [
      "\n",
      "Cross Validation Scores: [0.88235294 0.91176471 0.92537313 0.79104478 0.86567164]\n",
      "Mean Cross Validation Score: 0.8752414398595258\n"
     ]
    }
   ],
   "source": [
    "# Effectuons la validation croisée\n",
    "cv_scores = cross_val_score(model, X_train, y_train, cv=5)  # cv=5 pour une validation croisée à 5 plis\n",
    "\n",
    "# Affichons les scores de validation croisée\n",
    "print(\"\\nCross Validation Scores:\", cv_scores)\n",
    "print(\"Mean Cross Validation Score:\", cv_scores.mean())"
   ]
  },
  {
   "cell_type": "code",
   "execution_count": 22,
   "id": "e5dfd4c5",
   "metadata": {},
   "outputs": [
    {
     "name": "stdout",
     "output_type": "stream",
     "text": [
      "Meilleurs hyperparamètres : {'criterion': 'gini', 'max_depth': 9, 'min_samples_leaf': 1, 'min_samples_split': 2}\n",
      "Meilleure performance (accuracy) : 0.8753731343283582\n"
     ]
    }
   ],
   "source": [
    "# Définir les paramètres à rechercher\n",
    "param_grid = {\n",
    "    'max_depth': [5, 6, 7, 9, 10],\n",
    "    'min_samples_split': [2, 5, 10],\n",
    "    'min_samples_leaf': [1, 2, 4],\n",
    "    \n",
    "    \"criterion\":[\"gini\",\"entropy\"]\n",
    "}\n",
    "\n",
    "# Initialiser un objet GridSearchCV\n",
    "grid_search = GridSearchCV(estimator=DecisionTreeClassifier(), param_grid=param_grid, cv=5)\n",
    "\n",
    "# Effectuer la recherche d'hyperparamètres et la validation croisée\n",
    "grid_search.fit(X_train, y_train)\n",
    "\n",
    "# Afficher les meilleurs hyperparamètres\n",
    "print(\"Meilleurs hyperparamètres :\", grid_search.best_params_)\n",
    "\n",
    "# Afficher la meilleure performance\n",
    "print(\"Meilleure performance (accuracy) :\", grid_search.best_score_)"
   ]
  },
  {
   "cell_type": "code",
   "execution_count": 23,
   "id": "92b96452",
   "metadata": {},
   "outputs": [
    {
     "name": "stdout",
     "output_type": "stream",
     "text": [
      "Accuracy: 0.9411764705882353\n",
      "\n",
      "Classification Report:\n",
      "              precision    recall  f1-score   support\n",
      "\n",
      "           0       0.96      0.98      0.97        47\n",
      "           1       0.89      0.80      0.84        10\n",
      "           2       0.93      0.93      0.93        28\n",
      "\n",
      "    accuracy                           0.94        85\n",
      "   macro avg       0.93      0.90      0.91        85\n",
      "weighted avg       0.94      0.94      0.94        85\n",
      "\n",
      "\n",
      "Cross Validation Scores: [0.88235294 0.88235294 0.88059701 0.82089552 0.89552239]\n",
      "Mean Cross Validation Score: 0.8723441615452151\n"
     ]
    }
   ],
   "source": [
    "model = DecisionTreeClassifier(criterion= \"gini\", max_depth= 7, min_samples_leaf= 2, min_samples_split= 5)\n",
    "\n",
    "# Entraînons le modèle sur l'ensemble d'entraînement\n",
    "model.fit(X_train, y_train)\n",
    "\n",
    "# Faisons des prédictions sur l'ensemble de test\n",
    "y_pred = model.predict(X_test)\n",
    "\n",
    "# Évaluons la performance du modèle\n",
    "accuracy = accuracy_score(y_test, y_pred)\n",
    "print(\"Accuracy:\", accuracy)\n",
    "\n",
    "# Affichons le rapport de classification\n",
    "print(\"\\nClassification Report:\")\n",
    "print(classification_report(y_test, y_pred))\n",
    "# Effectuons la validation croisée\n",
    "cv_scores = cross_val_score(model, X_train, y_train, cv=5)  # cv=5 pour une validation croisée à 5 plis\n",
    "\n",
    "# Affichons les scores de validation croisée\n",
    "print(\"\\nCross Validation Scores:\", cv_scores)\n",
    "print(\"Mean Cross Validation Score:\", cv_scores.mean())"
   ]
  },
  {
   "cell_type": "markdown",
   "id": "81ca3445",
   "metadata": {},
   "source": [
    "## Random Forest"
   ]
  },
  {
   "cell_type": "code",
   "execution_count": 24,
   "id": "c8216a09",
   "metadata": {},
   "outputs": [
    {
     "name": "stdout",
     "output_type": "stream",
     "text": [
      "Accuracy: 0.9411764705882353\n",
      "\n",
      "Classification Report:\n",
      "              precision    recall  f1-score   support\n",
      "\n",
      "           0       0.94      0.98      0.96        47\n",
      "           1       1.00      0.80      0.89        10\n",
      "           2       0.93      0.93      0.93        28\n",
      "\n",
      "    accuracy                           0.94        85\n",
      "   macro avg       0.96      0.90      0.93        85\n",
      "weighted avg       0.94      0.94      0.94        85\n",
      "\n"
     ]
    }
   ],
   "source": [
    "# Créons un modèle de Random Forest\n",
    "random_forest = RandomForestClassifier()\n",
    "\n",
    "# Entraînons le modèle sur les données d'entraînement\n",
    "classifier_model = random_forest.fit(X_train, y_train)\n",
    "\n",
    "# Fesons des prédictions sur l'ensemble de test\n",
    "y_pred = random_forest.predict(X_test)\n",
    "\n",
    "# Calculons la précision (accuracy) du modèle\n",
    "accuracy = accuracy_score(y_test, y_pred)\n",
    "print(\"Accuracy:\", accuracy)\n",
    "\n",
    "# Affichons le rapport de classification\n",
    "print(\"\\nClassification Report:\")\n",
    "print(classification_report(y_test, y_pred))"
   ]
  },
  {
   "cell_type": "code",
   "execution_count": 25,
   "id": "42be07fd",
   "metadata": {},
   "outputs": [
    {
     "name": "stdout",
     "output_type": "stream",
     "text": [
      "Cross-Validation Scores: [0.85882353 0.90588235 0.92857143 0.88095238 0.96428571]\n",
      "Mean Accuracy: 0.907703081232493\n"
     ]
    }
   ],
   "source": [
    "# Créer un modèle de Random Forest\n",
    "random_forest = RandomForestClassifier()\n",
    "\n",
    "# Effectuer la validation croisée\n",
    "scores = cross_val_score(random_forest, X, y, cv=5)\n",
    "\n",
    "# Afficher les scores de validation croisée\n",
    "print(\"Cross-Validation Scores:\", scores)\n",
    "\n",
    "# Afficher la moyenne des scores de validation croisée\n",
    "print(\"Mean Accuracy:\", scores.mean())"
   ]
  },
  {
   "cell_type": "code",
   "execution_count": 26,
   "id": "32ced796",
   "metadata": {},
   "outputs": [
    {
     "name": "stdout",
     "output_type": "stream",
     "text": [
      "Best Hyperparameters: {'max_depth': 10, 'min_samples_leaf': 1, 'min_samples_split': 5, 'n_estimators': 50}\n",
      "Meilleure performance (accuracy) : 0.9405618964003513\n"
     ]
    }
   ],
   "source": [
    "param_grid = {\n",
    "    'n_estimators': [50, 100, 200],\n",
    "    'max_depth': [None, 10, 20],\n",
    "    'min_samples_split': [2, 5, 10],\n",
    "    'min_samples_leaf': [1, 2, 4]\n",
    "}\n",
    "\n",
    "\n",
    "# Créer un objet GridSearchCV\n",
    "grid_search = GridSearchCV(random_forest, param_grid, cv=5, scoring='accuracy')\n",
    "\n",
    "# Entraîner GridSearchCV sur les données d'entraînement\n",
    "grid_search.fit(X_train, y_train)\n",
    "\n",
    "# Obtenir les meilleurs hyperparamètres trouvés par GridSearchCV\n",
    "best_params = grid_search.best_params_\n",
    "\n",
    "print(\"Best Hyperparameters:\", best_params)\n",
    "print(\"Meilleure performance (accuracy) :\", grid_search.best_score_)\n"
   ]
  },
  {
   "cell_type": "code",
   "execution_count": 27,
   "id": "0f0a3313",
   "metadata": {},
   "outputs": [
    {
     "name": "stdout",
     "output_type": "stream",
     "text": [
      "Cross-Validation Scores: [0.84705882 0.89411765 0.9047619  0.89285714 0.94047619]\n",
      "Mean Accuracy: 0.8958543417366946\n"
     ]
    }
   ],
   "source": [
    "# Créons un modèle de Random Forest\n",
    "random_forest = RandomForestClassifier(max_depth= 10, min_samples_leaf= 1, min_samples_split= 2, n_estimators= 100)\n",
    "# Effectuer la validation croisée\n",
    "scores = cross_val_score(random_forest, X, y, cv=5)\n",
    "\n",
    "# Afficher les scores de validation croisée\n",
    "print(\"Cross-Validation Scores:\", scores)\n",
    "\n",
    "# Afficher la moyenne des scores de validation croisée\n",
    "print(\"Mean Accuracy:\", scores.mean())"
   ]
  },
  {
   "cell_type": "code",
   "execution_count": 28,
   "id": "733d00e6",
   "metadata": {},
   "outputs": [
    {
     "name": "stdout",
     "output_type": "stream",
     "text": [
      "Accuracy: 0.9764705882352941\n",
      "\n",
      "Classification Report:\n",
      "              precision    recall  f1-score   support\n",
      "\n",
      "           0       0.98      0.98      0.98        47\n",
      "           1       1.00      1.00      1.00        10\n",
      "           2       0.96      0.96      0.96        28\n",
      "\n",
      "    accuracy                           0.98        85\n",
      "   macro avg       0.98      0.98      0.98        85\n",
      "weighted avg       0.98      0.98      0.98        85\n",
      "\n"
     ]
    }
   ],
   "source": [
    "# Créons un modèle de Random Forest\n",
    "random_forest = RandomForestClassifier(max_depth= 10, min_samples_leaf= 1, min_samples_split= 2, n_estimators= 100)\n",
    "# Entraînons le modèle sur les données d'entraînement\n",
    "random_forest.fit(X_train, y_train)\n",
    "\n",
    "# Fesons des prédictions sur l'ensemble de test\n",
    "y_pred = random_forest.predict(X_test)\n",
    "\n",
    "# Calculons la précision (accuracy) du modèle\n",
    "accuracy = accuracy_score(y_test, y_pred)\n",
    "print(\"Accuracy:\", accuracy)\n",
    "\n",
    "# Affichons le rapport de classification\n",
    "print(\"\\nClassification Report:\")\n",
    "print(classification_report(y_test, y_pred))"
   ]
  },
  {
   "cell_type": "markdown",
   "id": "579b1f62",
   "metadata": {},
   "source": [
    "## SVM "
   ]
  },
  {
   "cell_type": "markdown",
   "id": "0e420ee2",
   "metadata": {},
   "source": [
    "### noyau rbf "
   ]
  },
  {
   "cell_type": "code",
   "execution_count": 29,
   "id": "3529b04f",
   "metadata": {},
   "outputs": [
    {
     "name": "stdout",
     "output_type": "stream",
     "text": [
      "Accuracy with SVM: 0.6470588235294118\n",
      "\n",
      "Classification Report with SVM:\n",
      "              precision    recall  f1-score   support\n",
      "\n",
      "           0       0.61      1.00      0.76        47\n",
      "           1       0.00      0.00      0.00        10\n",
      "           2       1.00      0.29      0.44        28\n",
      "\n",
      "    accuracy                           0.65        85\n",
      "   macro avg       0.54      0.43      0.40        85\n",
      "weighted avg       0.67      0.65      0.57        85\n",
      "\n"
     ]
    },
    {
     "name": "stderr",
     "output_type": "stream",
     "text": [
      "D:\\anaconda\\lib\\site-packages\\sklearn\\metrics\\_classification.py:1509: UndefinedMetricWarning: Precision is ill-defined and being set to 0.0 in labels with no predicted samples. Use `zero_division` parameter to control this behavior.\n",
      "  _warn_prf(average, modifier, f\"{metric.capitalize()} is\", len(result))\n",
      "D:\\anaconda\\lib\\site-packages\\sklearn\\metrics\\_classification.py:1509: UndefinedMetricWarning: Precision is ill-defined and being set to 0.0 in labels with no predicted samples. Use `zero_division` parameter to control this behavior.\n",
      "  _warn_prf(average, modifier, f\"{metric.capitalize()} is\", len(result))\n",
      "D:\\anaconda\\lib\\site-packages\\sklearn\\metrics\\_classification.py:1509: UndefinedMetricWarning: Precision is ill-defined and being set to 0.0 in labels with no predicted samples. Use `zero_division` parameter to control this behavior.\n",
      "  _warn_prf(average, modifier, f\"{metric.capitalize()} is\", len(result))\n"
     ]
    }
   ],
   "source": [
    "# Créer un modèle SVM\n",
    "svm_model = SVC()\n",
    "\n",
    "# Entraîner le modèle sur les données d'entraînement\n",
    "svm_model.fit(X_train, y_train)\n",
    "\n",
    "# Faire des prédictions sur l'ensemble de test\n",
    "y_pred_svm = svm_model.predict(X_test)\n",
    "\n",
    "# Calculer la précision (accuracy) du modèle\n",
    "accuracy_svm = accuracy_score(y_test, y_pred_svm)\n",
    "print(\"Accuracy with SVM:\", accuracy_svm)\n",
    "\n",
    "# Afficher le rapport de classification\n",
    "print(\"\\nClassification Report with SVM:\")\n",
    "print(classification_report(y_test, y_pred_svm))"
   ]
  },
  {
   "cell_type": "code",
   "execution_count": 30,
   "id": "00022058",
   "metadata": {},
   "outputs": [
    {
     "name": "stdout",
     "output_type": "stream",
     "text": [
      "Cross Validation Scores with SVM: [0.72058824 0.63235294 0.67164179 0.65671642 0.65671642]\n",
      "Mean Cross Validation Score with SVM: 0.667603160667252\n"
     ]
    }
   ],
   "source": [
    "cv_scores_svm = cross_val_score(svm_model, X_train, y_train, cv=5)  # cv=5 pour une validation croisée à 5 plis\n",
    "\n",
    "# Afficher les scores de validation croisée\n",
    "print(\"Cross Validation Scores with SVM:\", cv_scores_svm)\n",
    "print(\"Mean Cross Validation Score with SVM:\", cv_scores_svm.mean())"
   ]
  },
  {
   "cell_type": "markdown",
   "id": "2adecb79",
   "metadata": {},
   "source": [
    "### noyau linear "
   ]
  },
  {
   "cell_type": "code",
   "execution_count": 31,
   "id": "d99d4be2",
   "metadata": {},
   "outputs": [
    {
     "name": "stdout",
     "output_type": "stream",
     "text": [
      "Accuracy with SVM (linear kernel): 0.8352941176470589\n",
      "\n",
      "Classification Report with SVM (linear kernel):\n",
      "              precision    recall  f1-score   support\n",
      "\n",
      "           0       0.85      0.87      0.86        47\n",
      "           1       1.00      0.90      0.95        10\n",
      "           2       0.75      0.75      0.75        28\n",
      "\n",
      "    accuracy                           0.84        85\n",
      "   macro avg       0.87      0.84      0.85        85\n",
      "weighted avg       0.84      0.84      0.84        85\n",
      "\n"
     ]
    }
   ],
   "source": [
    "# Créer un modèle SVM avec noyau linéaire\n",
    "svm_model_linear = SVC(kernel='linear')\n",
    "\n",
    "# Entraîner le modèle sur les données d'entraînement\n",
    "svm_model_linear.fit(X_train, y_train)\n",
    "\n",
    "# Faire des prédictions sur l'ensemble de test\n",
    "y_pred_svm_linear = svm_model_linear.predict(X_test)\n",
    "\n",
    "# Calculer la précision (accuracy) du modèle\n",
    "accuracy_svm_linear = accuracy_score(y_test, y_pred_svm_linear)\n",
    "print(\"Accuracy with SVM (linear kernel):\", accuracy_svm_linear)\n",
    "\n",
    "# Afficher le rapport de classification\n",
    "print(\"\\nClassification Report with SVM (linear kernel):\")\n",
    "print(classification_report(y_test, y_pred_svm_linear))\n"
   ]
  },
  {
   "cell_type": "code",
   "execution_count": 32,
   "id": "37d3dfc2",
   "metadata": {},
   "outputs": [
    {
     "name": "stdout",
     "output_type": "stream",
     "text": [
      "Cross Validation Scores with SVM: [0.75       0.73529412 0.88059701 0.76119403 0.7761194 ]\n",
      "Mean Cross Validation Score with SVM: 0.7806409130816505\n"
     ]
    }
   ],
   "source": [
    "cv_scores_svm = cross_val_score(svm_model_linear, X_train, y_train, cv=5)  # cv=5 pour une validation croisée à 5 plis\n",
    "\n",
    "# Afficher les scores de validation croisée\n",
    "print(\"Cross Validation Scores with SVM:\", cv_scores_svm)\n",
    "print(\"Mean Cross Validation Score with SVM:\", cv_scores_svm.mean())"
   ]
  },
  {
   "cell_type": "markdown",
   "id": "7e82a7cf",
   "metadata": {},
   "source": [
    "### noyau polynomial "
   ]
  },
  {
   "cell_type": "code",
   "execution_count": 33,
   "id": "04319dc0",
   "metadata": {},
   "outputs": [
    {
     "name": "stdout",
     "output_type": "stream",
     "text": [
      "Accuracy with SVM (polynomial kernel): 0.6\n",
      "\n",
      "Classification Report with SVM (polynomial kernel):\n",
      "              precision    recall  f1-score   support\n",
      "\n",
      "           0       0.59      0.91      0.72        47\n",
      "           1       0.00      0.00      0.00        10\n",
      "           2       0.67      0.29      0.40        28\n",
      "\n",
      "    accuracy                           0.60        85\n",
      "   macro avg       0.42      0.40      0.37        85\n",
      "weighted avg       0.55      0.60      0.53        85\n",
      "\n"
     ]
    },
    {
     "name": "stderr",
     "output_type": "stream",
     "text": [
      "D:\\anaconda\\lib\\site-packages\\sklearn\\metrics\\_classification.py:1509: UndefinedMetricWarning: Precision is ill-defined and being set to 0.0 in labels with no predicted samples. Use `zero_division` parameter to control this behavior.\n",
      "  _warn_prf(average, modifier, f\"{metric.capitalize()} is\", len(result))\n",
      "D:\\anaconda\\lib\\site-packages\\sklearn\\metrics\\_classification.py:1509: UndefinedMetricWarning: Precision is ill-defined and being set to 0.0 in labels with no predicted samples. Use `zero_division` parameter to control this behavior.\n",
      "  _warn_prf(average, modifier, f\"{metric.capitalize()} is\", len(result))\n",
      "D:\\anaconda\\lib\\site-packages\\sklearn\\metrics\\_classification.py:1509: UndefinedMetricWarning: Precision is ill-defined and being set to 0.0 in labels with no predicted samples. Use `zero_division` parameter to control this behavior.\n",
      "  _warn_prf(average, modifier, f\"{metric.capitalize()} is\", len(result))\n"
     ]
    }
   ],
   "source": [
    "# Créer un modèle SVM avec noyau polynomial\n",
    "svm_model_poly = SVC(kernel='poly', degree=3)  # Spécifiez le degré selon votre choix\n",
    "\n",
    "# Entraîner le modèle sur les données d'entraînement\n",
    "svm_model_poly.fit(X_train, y_train)\n",
    "\n",
    "# Faire des prédictions sur l'ensemble de test\n",
    "y_pred_svm_poly = svm_model_poly.predict(X_test)\n",
    "\n",
    "# Calculer la précision (accuracy) du modèle\n",
    "accuracy_svm_poly = accuracy_score(y_test, y_pred_svm_poly)\n",
    "print(\"Accuracy with SVM (polynomial kernel):\", accuracy_svm_poly)\n",
    "\n",
    "# Afficher le rapport de classification\n",
    "print(\"\\nClassification Report with SVM (polynomial kernel):\")\n",
    "print(classification_report(y_test, y_pred_svm_poly))"
   ]
  },
  {
   "cell_type": "code",
   "execution_count": 34,
   "id": "f1ae5470",
   "metadata": {},
   "outputs": [
    {
     "name": "stdout",
     "output_type": "stream",
     "text": [
      "Cross Validation Scores with SVM: [0.72058824 0.57352941 0.68656716 0.65671642 0.65671642]\n",
      "Mean Cross Validation Score with SVM: 0.6588235294117647\n"
     ]
    }
   ],
   "source": [
    "cv_scores_svm = cross_val_score(svm_model_poly, X_train, y_train, cv=5)  # cv=5 pour une validation croisée à 5 plis\n",
    "\n",
    "# Afficher les scores de validation croisée\n",
    "print(\"Cross Validation Scores with SVM:\", cv_scores_svm)\n",
    "print(\"Mean Cross Validation Score with SVM:\", cv_scores_svm.mean())"
   ]
  },
  {
   "cell_type": "markdown",
   "id": "cee988aa",
   "metadata": {},
   "source": [
    "# Regression"
   ]
  },
  {
   "cell_type": "markdown",
   "id": "243a38f6",
   "metadata": {},
   "source": [
    "## Arbre de décision"
   ]
  },
  {
   "cell_type": "code",
   "execution_count": 35,
   "id": "1e1a6291",
   "metadata": {},
   "outputs": [
    {
     "name": "stdout",
     "output_type": "stream",
     "text": [
      "Mean Squared Error (Decision Tree): 0.3125\n"
     ]
    }
   ],
   "source": [
    "# Créer un modèle d'arbre de décision pour la régression\n",
    "tree_regressor = DecisionTreeRegressor()\n",
    "\n",
    "# Entraîner le modèle sur les données d'entraînement\n",
    "tree_regressor.fit(X_train_reg, Y_train_reg)\n",
    "\n",
    "# Faire des prédictions sur l'ensemble de test\n",
    "y_pred_tree = tree_regressor.predict(X_test_reg)\n",
    "\n",
    "# Évaluer les performances du modèle\n",
    "mse_tree = mean_squared_error(Y_test_reg, y_pred_tree)\n",
    "print(\"Mean Squared Error (Decision Tree):\", mse_tree)\n"
   ]
  },
  {
   "cell_type": "code",
   "execution_count": 36,
   "id": "642a4440",
   "metadata": {},
   "outputs": [
    {
     "name": "stdout",
     "output_type": "stream",
     "text": [
      "Cross Validation Scores (Decision Tree): [0.29273897 0.24678309 0.33885261 0.16184701 0.25606343]\n",
      "Mean Cross Validation Score (Decision Tree): 0.2592570237050044\n"
     ]
    }
   ],
   "source": [
    "cv_scores_tree = cross_val_score(tree_regressor, X_train_reg, Y_train_reg, cv=5, scoring='neg_mean_squared_error')\n",
    "\n",
    "# La fonction 'cross_val_score' renvoie la négation de l'erreur quadratique moyenne\n",
    "# car par convention, les scores sont maximisés, alors que nous voulons minimiser l'erreur quadratique moyenne.\n",
    "# Par conséquent, nous prenons l'opposé des scores.\n",
    "cv_scores_tree = -cv_scores_tree\n",
    "\n",
    "# Afficher les scores de validation croisée\n",
    "print(\"Cross Validation Scores (Decision Tree):\", cv_scores_tree)\n",
    "print(\"Mean Cross Validation Score (Decision Tree):\", cv_scores_tree.mean())"
   ]
  },
  {
   "cell_type": "markdown",
   "id": "57c7d929",
   "metadata": {},
   "source": [
    "## Random forest"
   ]
  },
  {
   "cell_type": "code",
   "execution_count": 37,
   "id": "ec67905c",
   "metadata": {},
   "outputs": [
    {
     "name": "stdout",
     "output_type": "stream",
     "text": [
      "Mean Squared Error (Random Forest): 0.12362523897058823\n"
     ]
    }
   ],
   "source": [
    "# Créer un modèle de forêt aléatoire pour la régression\n",
    "forest_regressor = RandomForestRegressor()\n",
    "\n",
    "# Entraîner le modèle sur les données d'entraînement\n",
    "regressor_model = forest_regressor.fit(X_train_reg, Y_train_reg)\n",
    "\n",
    "# Faire des prédictions sur l'ensemble de test\n",
    "y_pred_forest = forest_regressor.predict(X_test_reg)\n",
    "\n",
    "# Évaluer les performances du modèle\n",
    "mse_forest = mean_squared_error(Y_test_reg, y_pred_forest)\n",
    "print(\"Mean Squared Error (Random Forest):\", mse_forest)"
   ]
  },
  {
   "cell_type": "code",
   "execution_count": 38,
   "id": "2d449e20",
   "metadata": {},
   "outputs": [
    {
     "name": "stdout",
     "output_type": "stream",
     "text": [
      "Mean Squared Error (Random Forest) avec cross-validation : 0.12679671305695786\n"
     ]
    }
   ],
   "source": [
    "forest_regressor = RandomForestRegressor()\n",
    "\n",
    "# Effectuer la validation croisée\n",
    "scores = cross_val_score(forest_regressor, X_train_reg, Y_train_reg, cv=5, scoring='neg_mean_squared_error')\n",
    "\n",
    "# Les scores renvoyés sont négatifs, nous prenons l'opposé pour obtenir le MSE positif\n",
    "mse_scores = -scores\n",
    "\n",
    "# Calculer la moyenne des scores de MSE\n",
    "mean_mse = mse_scores.mean()\n",
    "print(\"Mean Squared Error (Random Forest) avec cross-validation :\", mean_mse)"
   ]
  },
  {
   "cell_type": "markdown",
   "id": "5f77c141",
   "metadata": {},
   "source": [
    "## SVR rbf"
   ]
  },
  {
   "cell_type": "code",
   "execution_count": 39,
   "id": "38274e02",
   "metadata": {},
   "outputs": [
    {
     "name": "stdout",
     "output_type": "stream",
     "text": [
      "Cross-Validation MSE Scores with SVM: [0.73308102 0.84207762 0.89058293 0.88187864 0.68895117]\n",
      "Mean MSE with SVM: 0.8073142747517856\n"
     ]
    }
   ],
   "source": [
    "# Créer un modèle SVM pour la régression\n",
    "svm_regressor = SVR(kernel='rbf')  # Vous pouvez spécifier d'autres paramètres SVM selon votre besoin\n",
    "\n",
    "# Effectuer la validation croisée\n",
    "scores = cross_val_score(svm_regressor, X, Y, cv=5, scoring='neg_mean_squared_error')\n",
    "\n",
    "# Convertir les scores en valeurs positives\n",
    "mse_scores = -scores\n",
    "\n",
    "# Afficher les scores de validation croisée\n",
    "print(\"Cross-Validation MSE Scores with SVM:\", mse_scores)\n",
    "\n",
    "# Afficher la moyenne des scores de validation croisée\n",
    "print(\"Mean MSE with SVM:\", np.mean(mse_scores))\n"
   ]
  },
  {
   "cell_type": "markdown",
   "id": "a42d4363",
   "metadata": {},
   "source": [
    "## svm linear "
   ]
  },
  {
   "cell_type": "code",
   "execution_count": 40,
   "id": "aa886e9f",
   "metadata": {},
   "outputs": [
    {
     "name": "stdout",
     "output_type": "stream",
     "text": [
      "Cross-Validation MSE Scores with SVM (linear kernel): [2.27184749 2.04356682 2.91174911 1.12699466 1.51457784]\n",
      "Mean MSE with SVM (linear kernel): 1.9737471835742526\n"
     ]
    }
   ],
   "source": [
    "# Créer un modèle SVM pour la régression avec un noyau linéaire\n",
    "svm_regressor_linear = SVR(kernel='linear')\n",
    "\n",
    "# Effectuer la validation croisée\n",
    "scores_linear = cross_val_score(svm_regressor_linear, X, Y, cv=5, scoring='neg_mean_squared_error')\n",
    "\n",
    "# Convertir les scores en valeurs positives\n",
    "mse_scores_linear = -scores_linear\n",
    "\n",
    "# Afficher les scores de validation croisée\n",
    "print(\"Cross-Validation MSE Scores with SVM (linear kernel):\", mse_scores_linear)\n",
    "\n",
    "# Afficher la moyenne des scores de validation croisée\n",
    "print(\"Mean MSE with SVM (linear kernel):\", np.mean(mse_scores_linear))\n"
   ]
  },
  {
   "cell_type": "markdown",
   "id": "bfbdd0dd",
   "metadata": {},
   "source": [
    "## SVM polynomial "
   ]
  },
  {
   "cell_type": "code",
   "execution_count": 41,
   "id": "64379935",
   "metadata": {},
   "outputs": [
    {
     "name": "stdout",
     "output_type": "stream",
     "text": [
      "Cross-Validation MSE Scores with SVM (polynomial kernel): [0.79050966 0.87700905 1.03162186 0.96796085 0.76657929]\n",
      "Mean MSE with SVM (polynomial kernel): 0.8867361418450258\n"
     ]
    }
   ],
   "source": [
    "# Créer un modèle SVM pour la régression avec un noyau polynomial\n",
    "svm_regressor_poly = SVR(kernel='poly', degree=3)  # Vous pouvez spécifier le degré selon votre choix\n",
    "\n",
    "# Effectuer la validation croisée\n",
    "scores_poly = cross_val_score(svm_regressor_poly, X, Y, cv=5, scoring='neg_mean_squared_error')\n",
    "\n",
    "# Convertir les scores en valeurs positives\n",
    "mse_scores_poly = -scores_poly\n",
    "\n",
    "# Afficher les scores de validation croisée\n",
    "print(\"Cross-Validation MSE Scores with SVM (polynomial kernel):\", mse_scores_poly)\n",
    "\n",
    "# Afficher la moyenne des scores de validation croisée\n",
    "print(\"Mean MSE with SVM (polynomial kernel):\", np.mean(mse_scores_poly))\n"
   ]
  },
  {
   "cell_type": "code",
   "execution_count": 42,
   "id": "59dd9037",
   "metadata": {},
   "outputs": [
    {
     "name": "stdout",
     "output_type": "stream",
     "text": [
      "Cross-Validation MSE Scores: [0.79050966 0.87700905 1.03162186 0.96796085 0.76657929]\n",
      "Mean MSE: 0.8867361418450258\n"
     ]
    }
   ],
   "source": [
    "# Effectuer la validation croisée\n",
    "scores = cross_val_score(svm_regressor_poly, X, Y, cv=5, scoring='neg_mean_squared_error')\n",
    "\n",
    "# Convertir les scores en valeurs positives\n",
    "mse_scores = -scores\n",
    "\n",
    "# Afficher les scores de validation croisée\n",
    "print(\"Cross-Validation MSE Scores:\", mse_scores)\n",
    "\n",
    "# Afficher la moyenne des scores de validation croisée\n",
    "print(\"Mean MSE:\", mse_scores.mean())"
   ]
  },
  {
   "cell_type": "code",
   "execution_count": 43,
   "id": "d3dddb5e",
   "metadata": {},
   "outputs": [
    {
     "name": "stdout",
     "output_type": "stream",
     "text": [
      "^C\n",
      "Note: you may need to restart the kernel to use updated packages.\n"
     ]
    }
   ],
   "source": [
    "#pip install --upgrade scikit-learn joblib"
   ]
  },
  {
   "cell_type": "code",
   "execution_count": 44,
   "id": "bf4a75b4",
   "metadata": {},
   "outputs": [
    {
     "name": "stdout",
     "output_type": "stream",
     "text": [
      "^C\n",
      "Note: you may need to restart the kernel to use updated packages.\n"
     ]
    }
   ],
   "source": [
    "#pip install --upgrade scikit-learn joblib --user"
   ]
  },
  {
   "cell_type": "code",
   "execution_count": 45,
   "id": "04e38efa",
   "metadata": {},
   "outputs": [
    {
     "name": "stdout",
     "output_type": "stream",
     "text": [
      "^C\n",
      "Note: you may need to restart the kernel to use updated packages.\n"
     ]
    }
   ],
   "source": [
    "#pip show scikit-learn"
   ]
  },
  {
   "cell_type": "code",
   "execution_count": 46,
   "id": "f3a1e401",
   "metadata": {},
   "outputs": [
    {
     "name": "stdout",
     "output_type": "stream",
     "text": [
      "Requirement already satisfied: scikit-learn in d:\\anaconda\\lib\\site-packages (1.4.1.post1)\n",
      "Requirement already satisfied: joblib in d:\\anaconda\\lib\\site-packages (1.3.2)\n",
      "Requirement already satisfied: numpy<2.0,>=1.19.5 in d:\\anaconda\\lib\\site-packages (from scikit-learn) (1.21.5)\n",
      "Requirement already satisfied: threadpoolctl>=2.0.0 in d:\\anaconda\\lib\\site-packages (from scikit-learn) (2.2.0)\n",
      "Requirement already satisfied: scipy>=1.6.0 in d:\\anaconda\\lib\\site-packages (from scikit-learn) (1.9.1)\n",
      "Requirement already satisfied: scikit-learn in d:\\anaconda\\lib\\site-packages (1.4.1.post1)\n",
      "Requirement already satisfied: joblib in d:\\anaconda\\lib\\site-packages (1.3.2)\n",
      "Requirement already satisfied: scipy>=1.6.0 in d:\\anaconda\\lib\\site-packages (from scikit-learn) (1.9.1)\n",
      "Requirement already satisfied: numpy<2.0,>=1.19.5 in d:\\anaconda\\lib\\site-packages (from scikit-learn) (1.21.5)\n",
      "Requirement already satisfied: threadpoolctl>=2.0.0 in d:\\anaconda\\lib\\site-packages (from scikit-learn) (2.2.0)\n",
      "Name: scikit-learn\n",
      "Version: 1.4.1.post1\n",
      "Summary: A set of python modules for machine learning and data mining\n",
      "Home-page: https://scikit-learn.org\n",
      "Author: \n",
      "Author-email: \n",
      "License: new BSD\n",
      "Location: d:\\anaconda\\lib\\site-packages\n",
      "Requires: joblib, numpy, scipy, threadpoolctl\n",
      "Required-by: scikit-learn-intelex\n",
      "^C\n",
      "Note: you may need to restart the kernel to use updated packages.\n"
     ]
    }
   ],
   "source": [
    "#pip show joblib"
   ]
  },
  {
   "cell_type": "code",
   "execution_count": 47,
   "id": "9eeed14f",
   "metadata": {},
   "outputs": [
    {
     "data": {
      "text/plain": [
       "['classification.joblib']"
      ]
     },
     "execution_count": 47,
     "metadata": {},
     "output_type": "execute_result"
    }
   ],
   "source": [
    "dump(classifier_model, 'classification.joblib')"
   ]
  },
  {
   "cell_type": "code",
   "execution_count": 48,
   "id": "089bed13",
   "metadata": {},
   "outputs": [
    {
     "data": {
      "text/plain": [
       "['regression.joblib']"
      ]
     },
     "execution_count": 48,
     "metadata": {},
     "output_type": "execute_result"
    }
   ],
   "source": [
    "dump(regressor_model, 'regression.joblib')"
   ]
  },
  {
   "cell_type": "code",
   "execution_count": null,
   "id": "3e1b6d94",
   "metadata": {},
   "outputs": [],
   "source": []
  }
 ],
 "metadata": {
  "kernelspec": {
   "display_name": "Python 3 (ipykernel)",
   "language": "python",
   "name": "python3"
  },
  "language_info": {
   "codemirror_mode": {
    "name": "ipython",
    "version": 3
   },
   "file_extension": ".py",
   "mimetype": "text/x-python",
   "name": "python",
   "nbconvert_exporter": "python",
   "pygments_lexer": "ipython3",
   "version": "3.9.13"
  }
 },
 "nbformat": 4,
 "nbformat_minor": 5
}
